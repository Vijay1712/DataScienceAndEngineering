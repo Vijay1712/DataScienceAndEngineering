{
 "cells": [
  {
   "cell_type": "markdown",
   "metadata": {},
   "source": [
    "# Lab 2: Sequence Alignment"
   ]
  },
  {
   "cell_type": "markdown",
   "metadata": {},
   "source": [
    "### Name: Your Name Here (Your netid here)"
   ]
  },
  {
   "cell_type": "markdown",
   "metadata": {},
   "source": [
    "### Due March 18, 2020 11:59 PM\n",
    "\n",
    "#### Preamble (Don't change this)"
   ]
  },
  {
   "cell_type": "markdown",
   "metadata": {},
   "source": [
    "## Important Instructions - \n",
    "\n",
    "1. You are not allowed to use any built-in libraries for calculating Smith-Waterman alignment/score.\n",
    "2. Please implement all the *graded functions* in main.py file. Do not change function names in main.py.\n",
    "3. Please read the description of every graded function very carefully. The description clearly states what is the expectation of each graded function. \n",
    "4. After some graded functions, there is a cell which you can run and see if the expected output matches the output you are getting. \n",
    "5. The expected output provided is just a way for you to assess the correctness of your code. The code will be tested on several other cases as well."
   ]
  },
  {
   "cell_type": "code",
   "execution_count": 221,
   "metadata": {},
   "outputs": [],
   "source": [
    "import random\n",
    "import matplotlib.pyplot as plt\n",
    "import seaborn as sns\n",
    "import pandas as pd\n",
    "import statsmodels.api as sm \n",
    "import numpy as np\n",
    "import pickle"
   ]
  },
  {
   "cell_type": "markdown",
   "metadata": {},
   "source": [
    "# Sequence Alignment"
   ]
  },
  {
   "cell_type": "markdown",
   "metadata": {},
   "source": [
    "In this lab, we will look into performing sequence alignment between genomic sequences.\n",
    "As we discussed in class, this is a key computational task in genomics.\n",
    "In particular, sequence alignment is used in the following two scenarios:\n",
    "* When we sequence the DNA of an organism that we have never sequenced before, we need to align the reads to each other in order to recover the entire genome.\n",
    "* When we sequence the DNA of an organism for which a reference genome is available (e.g., humans), we need to align the reads to the reference genome.\n",
    "\n",
    "Abstractly, in the sequence alignment problem, we are given two sequences $x$ and $y$, and we want to place gaps (represented by ‘-’) in $x$ and $y$ so that the resulting sequences “line up well”.\n",
    "For example, if $x = AGGCTAGTT$ and $y = AGCGAAGTTT$, a \"good\" alignment is \n",
    "\n",
    "```\n",
    "AGGC-TA-GTT-\n",
    "AG-CG-AAGTTT\n",
    "```\n",
    "\n",
    "As we discussed in class, the Smith-Waterman algorithm assigns scores/penalties to matches, mismatches, and gaps gaps, and then computes the alignment between the two sequences that maximizes the total score.\n",
    "\n",
    "The Smith-Waterman algorithm performs *local* sequence alignment. This means that we are looking for a substring of x and a substring of y with the largest possible alignment score.\n",
    "For example, if our scores are +1 for match, -1 for mismatch, -1 for gap and we want to align $x = CCCCGATTACAGGGG$ and $y = GGGGGATACACCCC$, then the best possible local alignment is\n",
    "\n",
    "```\n",
    "GATTACA\n",
    "GAT_ACA\n",
    "```\n",
    "\n",
    "which has score 6-1=5. Notice that the gaps in the beginning and in the end don't \n"
   ]
  },
  {
   "cell_type": "markdown",
   "metadata": {},
   "source": [
    "### PacBio data\n",
    "\n",
    "We will start with the same PacBio data from Lab 1. \n",
    "PacBio reads are typically long, and aligning them can be challenging in practice."
   ]
  },
  {
   "cell_type": "code",
   "execution_count": 113,
   "metadata": {},
   "outputs": [],
   "source": [
    "#reading PacBio data\n",
    "with open('dna_reads_pac-bio.data', 'rb') as filehandle:\n",
    "    dna_reads_pac=pickle.load(filehandle)"
   ]
  },
  {
   "cell_type": "code",
   "execution_count": 171,
   "metadata": {},
   "outputs": [],
   "source": [
    "%run main.py"
   ]
  },
  {
   "cell_type": "markdown",
   "metadata": {},
   "source": [
    "The following line creates an object from the class in *main.py*. **Do not change the class name and function headers!**"
   ]
  },
  {
   "cell_type": "code",
   "execution_count": 172,
   "metadata": {},
   "outputs": [],
   "source": [
    "module = Lab2()"
   ]
  },
  {
   "cell_type": "markdown",
   "metadata": {},
   "source": [
    "## Graded Function 1: smith_waterman_alignment  (10 marks)\n",
    "\n",
    "Purpose - To perform local sequence alignment between two DNA sequences and identify sequence similarity using the Smith-Waterman algorithm. You should calculate alignment score between every two points in the sequences and record the maximum score.\n",
    "\n",
    "Input - two sequences and a dictionary with penalties for match, mismatch and gap (e.g., `penalties={'match':1,'mismatch':-1,'gap':-1}`)\n",
    "\n",
    "Output - an integer value which is the maximum smith waterman alignment score"
   ]
  },
  {
   "cell_type": "code",
   "execution_count": 116,
   "metadata": {},
   "outputs": [],
   "source": [
    "penalties={'match':1,'mismatch':-1,'gap':-1}"
   ]
  },
  {
   "cell_type": "code",
   "execution_count": 117,
   "metadata": {},
   "outputs": [
    {
     "name": "stdout",
     "output_type": "stream",
     "text": [
      "593.0\n"
     ]
    }
   ],
   "source": [
    "# Note this may take some time to compute\n",
    "print(module.smith_waterman_alignment(dna_reads_pac[0],dna_reads_pac[1],penalties))"
   ]
  },
  {
   "cell_type": "markdown",
   "metadata": {},
   "source": [
    "### Expected Output - \n",
    "\n",
    "593"
   ]
  },
  {
   "cell_type": "markdown",
   "metadata": {},
   "source": [
    "As you noticed, finding the optimal alignment between two long PacBio reads takes a while. \n",
    "Imagine doing this for hundreds of thousands of reads!\n",
    "Some of the indexing techniques that we will explore later in this lab can be used in practice to accelerate this process."
   ]
  },
  {
   "cell_type": "markdown",
   "metadata": {},
   "source": [
    "## Graded Function 2: print_smith_waterman_alignment  (10 marks)\n",
    "\n",
    "Purpose - To perform local sequence alignment between two DNA sequences and return the resulting alignment in a nice fashion, like:\n",
    "\n",
    "```\n",
    "AGGC-TA-GTT-\n",
    "AG-CG-AAGTTT\n",
    "```\n",
    "\n",
    "Input - two sequences and a dictionary with penalities for match, mismatch and gap\n",
    "\n",
    "Output - return a tuple with two strings showing the two sequences with '-' representing the gaps"
   ]
  },
  {
   "cell_type": "code",
   "execution_count": 111,
   "metadata": {
    "scrolled": true
   },
   "outputs": [
    {
     "name": "stdout",
     "output_type": "stream",
     "text": [
      "('TCGCAATATGCTAG-CAG', 'TCGCAATCTGC-AGTCCG')\n",
      "True\n",
      "('MIS-PEL', 'MISSPEL')\n",
      "('CCACACCACACCCACACACCCACACACCACACCACACACC-CACCACACCCACACACACACATCCTAACAACTACCCTAACACAGCCCTAATCTAACCCTG', 'CCACACCACACCCACACACCCACACACCACACCACACACCACACCACACCCACACACACACATCCTAACA-CTACCCTAACACAGCCCTAATCTAACCCTG')\n",
      "False\n"
     ]
    }
   ],
   "source": [
    "DIAG = 0\n",
    "LEFT = 1\n",
    "UP = 2\n",
    "\n",
    "# print(s1, s2)\n",
    "# print(inspect.getsource(inspect.currentframe().f_back))\n",
    "\n",
    "def function(s1, s2, penalties):    \n",
    "    dp = np.zeros((len(s1)+1, len(s2)+1))\n",
    "    dirs = np.zeros((len(s1)+1, len(s2)+1))\n",
    "\n",
    "    for i in range(1, dp.shape[0]):\n",
    "        for j in range(1, dp.shape[1]):\n",
    "            if s1[i-1] == s2[j-1]:\n",
    "                diag = (dp[i-1, j-1] + penalties['match'], 0)\n",
    "            else:\n",
    "                diag = (dp[i-1, j-1] + penalties['mismatch'], 0)\n",
    "            left = (dp[i, j-1] + penalties['gap'], 1)\n",
    "            up = (dp[i-1, j] + penalties['gap'], 2)\n",
    "            dp[i, j], dirs[i, j] = max((0, DIAG), left, up, diag)\n",
    "    return dp, dirs\n",
    "\n",
    "def get_alignment_matrix(s1, s2, penalties):\n",
    "    dp = np.zeros((len(s1)+1, len(s2)+1))\n",
    "    dirs = np.zeros((len(s1)+1, len(s2)+1), dtype=np.ubyte)\n",
    "    m = penalties['match']\n",
    "    s = -penalties['mismatch']\n",
    "    d = -penalties['gap']\n",
    "    for i in range(1, dp.shape[0]):\n",
    "        x = s1[i-1]\n",
    "        for j in range(1, dp.shape[1]):\n",
    "            y = s2[j-1]\n",
    "            if x == y:\n",
    "                diag = (dp[i-1, j-1] + penalties['match'], DIAG)\n",
    "            else:\n",
    "                diag = (dp[i-1, j-1] - s, DIAG)\n",
    "            left = (dp[i, j-1] - d, LEFT)\n",
    "            up = (dp[i-1, j] - d, UP)\n",
    "            dp[i, j], dirs[i, j] = max((0, DIAG), left, up, diag)\n",
    "    return dp, dirs\n",
    "\n",
    "def print_smith_waterman_alignment(s1,s2,penalties):\n",
    "    dp = np.zeros((len(s1)+1, len(s2)+1))\n",
    "    dirs = np.zeros((len(s1)+1, len(s2)+1))\n",
    "    for i in range(1, dp.shape[0]):\n",
    "        for j in range(1, dp.shape[1]):\n",
    "            if s1[i-1] == s2[j-1]:\n",
    "                diag = (dp[i-1, j-1] + penalties['match'], 0)\n",
    "            else:\n",
    "                diag = (dp[i-1, j-1] + penalties['mismatch'], 0)\n",
    "            left = (dp[i, j-1] + penalties['gap'], 1)\n",
    "            up = (dp[i-1, j] + penalties['gap'], 2)\n",
    "            dp[i, j], dirs[i, j] = max((0, DIAG), left, up, diag)\n",
    "    maxScoreIndex =  tuple(dp.shape - np.array(np.unravel_index(np.argmax(np.flip(dp)), dp.shape)) - 1)\n",
    "    currScore = dp[maxScoreIndex]\n",
    "    string1 = ''\n",
    "    string2 = ''\n",
    "    while currScore != 0:\n",
    "        if dirs[maxScoreIndex] == 0:\n",
    "            string1 = s1[maxScoreIndex[0]-1] + string1\n",
    "            string2 = s2[maxScoreIndex[1]-1] + string2\n",
    "            maxScoreIndex = (maxScoreIndex[0]-1, maxScoreIndex[1]-1)\n",
    "        elif dirs[maxScoreIndex] == 1:\n",
    "            string1 = '-' + string1\n",
    "            string2 = s2[maxScoreIndex[1]-1] + string2\n",
    "            maxScoreIndex = (maxScoreIndex[0], maxScoreIndex[1]-1)\n",
    "        elif dirs[maxScoreIndex] == 2:\n",
    "            string1 = s1[maxScoreIndex[0]-1] + string1\n",
    "            string2 = '-' + string2\n",
    "            maxScoreIndex = (maxScoreIndex[0]-1, maxScoreIndex[1])\n",
    "        currScore = dp[maxScoreIndex]\n",
    "    return (string1, string2)\n",
    "    \n",
    "    \n",
    "    \n",
    "alignment = print_smith_waterman_alignment(\"CTCGCAATATGCTAGCAGC\",\"GATCGCAATCTGCAGTCCG\",penalties)\n",
    "print(alignment)\n",
    "if alignment==('TCGCAATATGCTAG', 'TCGCAATCTGC-AG') or alignment==('TCGCAATATGCTAG-CAG', 'TCGCAATCTGC-AGTCCG') or alignment==('TCGCAATATGCTAG-C', 'TCGCAATCTGC-AGTC'):\n",
    "    print(\"True\")\n",
    "else :\n",
    "    print(\"False\")\n",
    "    \n",
    "x = \"MISPEL\"\n",
    "y = \"MISSPELL\"\n",
    "alignment = print_smith_waterman_alignment(x,y,penalties)\n",
    "print(alignment)\n",
    "    \n",
    "    \n",
    "x=\"CCACACCACACCCACACACCCACACACCACACCACACACCCACCACACCCACACACACACATCCTAACAACTACCCTAACACAGCCCTAATCTAACCCTG\"\n",
    "y='CCACACCACACCCACACACCCACACACCACACCACACACCACACCACACCCACACACACACATCCTAACACTACCCTAACACAGCCCTAATCTAACCCTG'\n",
    "alignment=print_smith_waterman_alignment(x,y,penalties)\n",
    "print(alignment)\n",
    "if alignment==('CCACACCACACCCACACACCCACACACCACACCACACACC-CACCACACCCACACACACACATCCTAACAACTACCCTAACACAGCCCTAATCTAACCCTG',\n",
    " 'CCACACCACACCCACACACCCACACACCACACCACACACCACACCACACCCACACACACACATCCTAAC-ACTACCCTAACACAGCCCTAATCTAACCCTG') :\n",
    "    print(\"True\")\n",
    "else :\n",
    "    print(\"False\")"
   ]
  },
  {
   "cell_type": "code",
   "execution_count": 120,
   "metadata": {},
   "outputs": [
    {
     "name": "stdout",
     "output_type": "stream",
     "text": [
      "('MIS-PEL', 'MISSPEL')\n",
      "('TCGCAATATGCTAG-CAG', 'TCGCAATCTGC-AGTCCG')\n",
      "True\n"
     ]
    }
   ],
   "source": [
    "%run main.py\n",
    "module = Lab2()\n",
    "x = \"MISPEL\"\n",
    "y = \"MISSPELL\"\n",
    "print(module.print_smith_waterman_alignment(x,y,penalties))\n",
    "\n",
    "alignment = print_smith_waterman_alignment(\"CTCGCAATATGCTAGCAGC\",\"GATCGCAATCTGCAGTCCG\",penalties)\n",
    "print(alignment)\n",
    "if alignment==('TCGCAATATGCTAG', 'TCGCAATCTGC-AG') or alignment==('TCGCAATATGCTAG-CAG', 'TCGCAATCTGC-AGTCCG') or alignment==('TCGCAATATGCTAG-C', 'TCGCAATCTGC-AGTC'):\n",
    "    print(\"True\")\n",
    "else :\n",
    "    print(\"False\")"
   ]
  },
  {
   "cell_type": "markdown",
   "metadata": {},
   "source": [
    "### Expected Output - \n",
    "\n",
    "``('MI-SPEL', 'MISSPEL')``\n",
    "\n",
    "or \n",
    "\n",
    "``('MIS-PEL', 'MISSPEL')``"
   ]
  },
  {
   "cell_type": "markdown",
   "metadata": {},
   "source": [
    "# Aligning reads to a (long) genome\n",
    "\n",
    "While the Smith-Waterman algorithm can provide local alignments between two sequences of arbitrary lengths, it is too slow to be used to align reads to a long genome.\n",
    "As we discussed in class, when we are trying to align reads to a long genome, we typically rely on an indexing scheme (based on hash functions, or a Python dictionary) to quickly identify matches."
   ]
  },
  {
   "cell_type": "markdown",
   "metadata": {},
   "source": [
    "We will consider two genome files.\n",
    "The first one is a short fake genome in the file \"fakegenome.fasta\".\n",
    "\n",
    "The second one is the *Saccharomyces cerevisiae* (Brewer's yeast) genome.\n",
    "The *S. cerevisiae* genome was the first eukaryotic genome to be fully sequenced.\n",
    "It contains 16 chromosomes for a total genome length of about 12 million base-pairs."
   ]
  },
  {
   "cell_type": "code",
   "execution_count": 123,
   "metadata": {},
   "outputs": [],
   "source": [
    "fakegenome_file=\"\"\n",
    "with open(\"fakegenome.fasta\") as file:\n",
    "    fakegenome_file=file.read()\n",
    "\n",
    "saccha_file=\"\"\n",
    "with open(\"saccha.fasta\") as file:\n",
    "    saccha_file=file.read()"
   ]
  },
  {
   "cell_type": "code",
   "execution_count": 3,
   "metadata": {},
   "outputs": [
    {
     "name": "stdout",
     "output_type": "stream",
     "text": [
      ">chr1\n",
      "GATTACA\n",
      ">chr2\n",
      "CAGATTTACACATACA\n",
      ">chr3\n",
      "CACACACA\n",
      "\n",
      "\n",
      ">chr1\n",
      "CCACACCACACCCACACACCCACACACCACACCACACACCACACCACACCCACACACACA\n",
      "CATCCTAACACTACCCTAACACAGCCCTAATCTAACCCTGGCCAACCTGTCTCTCAACTT\n",
      "ACCCTCCATTACCCTGCCTCCACTCGTTACCCTGTCCCATTCAACCATACCACTCCGAAC\n",
      "CACCATCCATCCCTCTACTTACTACCACTCACCCACCGTTACCCTCCAATTACCCATATC\n",
      "CAACCCACTGCCACTTACCCTACCATTACCCTACCATCCACCATGACCTA\n"
     ]
    }
   ],
   "source": [
    "# let's print the fakegenome file and the beginning of the S. cerevisiae file:\n",
    "\n",
    "print(fakegenome_file)\n",
    "print()\n",
    "print(saccha_file[:300])"
   ]
  },
  {
   "cell_type": "markdown",
   "metadata": {},
   "source": [
    "Notice that the chromosomes are separated by a line that only contains \">chrN\", where N is the chromosome number"
   ]
  },
  {
   "cell_type": "markdown",
   "metadata": {},
   "source": [
    "## Graded Function 3 : find_exact_matches(list_of_reads,genome_file)\n",
    "\n",
    "Pupose - To check whether each of the reads in list_of_reads is present (exactly) somewhere in the genome and, if so, return the location. The location should be specified as \"chr2:120000\" (for a read that starts at position 120000 of chromosome 2)\n",
    "\n",
    "Input - list of reads **of the same length** and a genome fasta file (converted into a single string)\n",
    "\n",
    "Output - a list with the same length as list_of_reads, where the ith element is a list of all locations (starting positions) in the genome where the ith read appears. The starting positions should be specified using the \"chr2:120000\" format\n",
    "\n",
    "Note: Avoid using Python packages and built-in functions to do search operations (such as the find function). The goal of this problem is for you to practice using Python dictionaries to build a genome index that can help finding matches quickly.\n",
    "\n",
    "Note: Genomic locations should be spaced using 1-based indexing. For example, the first position of chromosome 3 should be specified as ``chr3:1`` (and not ``chr3:0``)"
   ]
  },
  {
   "cell_type": "code",
   "execution_count": 25,
   "metadata": {},
   "outputs": [
    {
     "name": "stdout",
     "output_type": "stream",
     "text": [
      "[]\n",
      "None\n"
     ]
    }
   ],
   "source": [
    "list_of_fake_reads = ['GATT','TACA','CACA']\n",
    "\n",
    "import re\n",
    "\n",
    "def find_exact_matches(list_of_reads,genome):\n",
    "    dic = {}\n",
    "    substringSize = len(list_of_reads[0])\n",
    "    x = genome.split(\"\\n\")\n",
    "    gene = \"\"\n",
    "    currChar = x[0]\n",
    "    for i in range(1,len(x)):\n",
    "        if \"chr\" in x[i]:\n",
    "            dic[currChar] = gene\n",
    "            gene = \"\"\n",
    "            currChar = x[i]\n",
    "        else:\n",
    "            gene+= x[i]\n",
    "    dic[currChar] = gene\n",
    "    \n",
    "    # print(dic)\n",
    "    \n",
    "#     res = [i.start() for i in re.finditer('CTGTATGGCTATACGATTATGTGGGCTACCAACAGATTGGTCACTTTCCT', dic['>chr15'])] \n",
    "#     print(res)\n",
    "    \n",
    "    charDicts = []\n",
    "    for k,v in dic.items():\n",
    "        tempDic = {}\n",
    "        for i in range(len(v)-substringSize+1):\n",
    "            if v[i:i+substringSize] in tempDic:\n",
    "                tempDic[v[i:i+substringSize]].append(i+1)\n",
    "            else:\n",
    "                tempDic[v[i:i+substringSize]] = []\n",
    "                tempDic[v[i:i+substringSize]].append(i+1)\n",
    "                \n",
    "        charDicts.append(tempDic)\n",
    "    \n",
    "    answer = []\n",
    "    for pattern in list_of_reads:\n",
    "        tempAnswer = []\n",
    "        for i in range(len(charDicts)):\n",
    "            z = 'chr'+str((i+1))\n",
    "            if pattern in charDicts[i]:\n",
    "                startPoints = charDicts[i][pattern]\n",
    "                for j in startPoints:\n",
    "                    pos = \"\"\n",
    "                    pos+=z\n",
    "                    pos+=\":\"\n",
    "                    pos+=str(j)\n",
    "                    tempAnswer.append(pos)\n",
    "        answer.append(tempAnswer)\n",
    "                    \n",
    "        \n",
    "    return answer\n",
    "     \n",
    "# print(find_exact_matches(list_of_fake_reads,fakegenome_file))\n",
    "read0 = \"CCACACCACACCCACACACCCACACACCACACCACACACCACACCACACC\"\n",
    "read1 = \"CACACCACACCACACCCACACACACACATCCTAACACTACCCTAACACAG\"\n",
    "read2 = \"CTCGCTGTCACTCCTTACCCGGCTTTCTGACCGAAATTAAAAAAAAAAAA\"\n",
    "read3 = \"TTTAAACTTACGATTATGTGATTTGATGAGGTCAATCAACAGATTAACCA\"\n",
    "read4 = \"CTGTATGGCTATACGATTATGTGGGCTACCAACAGATTGGTCACTTTCCT\"\n",
    "read5 = \"GGGTCCGATGTTGGATTGAAATCCCAAGGTGCTATTTCTATATTTATATA\"\n",
    "list_of_reads = [read0,read1,read2,read3,read4]\n",
    "print(find_exact_matches(list_of_reads,saccha_file))"
   ]
  },
  {
   "cell_type": "code",
   "execution_count": 21,
   "metadata": {},
   "outputs": [
    {
     "name": "stdout",
     "output_type": "stream",
     "text": [
      "[['chr1:1', 'chr2:3'], ['chr1:4', 'chr2:7', 'chr2:13'], ['chr2:9', 'chr3:1', 'chr3:3', 'chr3:5']]\n",
      "GCCTCCGAATCATTAATGCATTGTTTGGAAAGGCGGTTGCCTCAGGCAGAG\n"
     ]
    }
   ],
   "source": [
    "list_of_fake_reads = ['GATT','TACA','CACA']\n",
    "print(module.find_exact_matches(list_of_fake_reads,fakegenome_file))\n",
    "\n",
    "print(saccha_file[753362:753413])"
   ]
  },
  {
   "cell_type": "markdown",
   "metadata": {},
   "source": [
    "### Expected Output - \n",
    "\n",
    "``[['chr1:1', 'chr2:3'], ['chr1:4', 'chr2:7', 'chr2:13'], ['chr2:9', 'chr3:1', 'chr3:3', 'chr3:5']]``"
   ]
  },
  {
   "cell_type": "code",
   "execution_count": 22,
   "metadata": {},
   "outputs": [
    {
     "name": "stdout",
     "output_type": "stream",
     "text": [
      "[['chr1:1'], ['chr1:35'], ['chr8:56', 'chr13:73'], ['chr2:753363'], []]\n"
     ]
    }
   ],
   "source": [
    "read0 = \"CCACACCACACCCACACACCCACACACCACACCACACACCACACCACACC\"\n",
    "read1 = \"CACACCACACCACACCCACACACACACATCCTAACACTACCCTAACACAG\"\n",
    "read2 = \"CTCGCTGTCACTCCTTACCCGGCTTTCTGACCGAAATTAAAAAAAAAAAA\"\n",
    "read3 = \"TTTAAACTTACGATTATGTGATTTGATGAGGTCAATCAACAGATTAACCA\"\n",
    "read4 = \"CTGTATGGCTATACGATTATGTGGGCTACCAACAGATTGGTCACTTTCCT\"\n",
    "read5 = \"GGGTCCGATGTTGGATTGAAATCCCAAGGTGCTATTTCTATATTTATATA\"\n",
    "list_of_reads = [read0,read1,read2,read3,read4]\n",
    "\n",
    "print(module.find_exact_matches(list_of_reads,saccha_file))"
   ]
  },
  {
   "cell_type": "markdown",
   "metadata": {},
   "source": [
    "# Aligning reads with errors/mutations to a (long) genome\n",
    "\n",
    "When the reads may have discrepancies with respect to the reference genome (which could be sequencing errors or mutations), we need to be more clever with our indexing.\n",
    "\n",
    "In the following, we will use the same two genome files (fakegenome_file and saccha_file) from above, but consider reads with errors/mutations."
   ]
  },
  {
   "cell_type": "markdown",
   "metadata": {},
   "source": [
    "## Graded Function 4 : find_approximate_matches(list_of_reads,genome_file)\n",
    "\n",
    "Purpose - To return the locations in the genome file which have the highest Smith-Waterman alignment score for each of the reads in list_of_reads. All reads in the list will have the same length, say $L$. For each read, your goal is to find a segment of length $L$ in the genome with the largest Smith-Waterman alignment score with the read. \n",
    "\n",
    "Notice that simply running Smith-Waterman between a read and every length-$L$ segment in the genome is impractical (and will take too long). Instead you should use an indexing scheme, based on Python dictionaries, to first identify candidate locations in the genome, and then use the Smith-Waterman algorithm to find the alignment score.\n",
    "\n",
    "For Smith-Waterman, you should use penalties={'match':1,'mismatch':-1,'gap':-1}.\n",
    "\n",
    "Input - list of reads of the same length and a genome fasta file (converted into a single string)\n",
    "\n",
    "Output - a list with the same length as list_of_reads, where the ith element is a list of all locations (starting positions) in the genome which have the highest Smith-Waterman alignment score with the ith read in list_of_reads\n",
    "\n",
    "Note: The location should be specified as \"chr2:120000\" (for the length-$L$ segment that starts at position 120000 of chromosome 2). As in Graded function 3, you should specify the position using 1-based indexing; i.e., the chromosome starts at position 1, not at 0).\n",
    "\n",
    "Note: there can be more than one position for a particular read which have the same highest score. You should include all of them as a list.\n",
    "\n",
    "**Hint:** For all cases that we will be checking, you can choose the substring length (for the genome index) to be $k = L/4$. We will only use lengths $L$ that are divisible by 4."
   ]
  },
  {
   "cell_type": "code",
   "execution_count": 222,
   "metadata": {},
   "outputs": [
    {
     "name": "stdout",
     "output_type": "stream",
     "text": [
      ">chr1\n",
      "GATTACA\n",
      ">chr2\n",
      "CAGATTTACACATACA\n",
      ">chr3\n",
      "CACACACA\n",
      "\n"
     ]
    }
   ],
   "source": [
    "print(fakegenome_file)"
   ]
  },
  {
   "cell_type": "code",
   "execution_count": 211,
   "metadata": {
    "scrolled": true
   },
   "outputs": [
    {
     "name": "stdout",
     "output_type": "stream",
     "text": [
      "{5.0: {'>chr2': 4}, 3.0: {'>chr3': 1}}\n",
      "{3.0: {'>chr2': 2}, 6.0: {'>chr2': 8}, 1.0: {'>chr3': 0}, 4.0: {'>chr2': 4}}\n",
      "None\n"
     ]
    }
   ],
   "source": [
    "def find_approximate_matches(list_of_reads,genome):\n",
    "    penalties={'match':1,'mismatch':-1,'gap':-1}\n",
    "    dic = {}\n",
    "    substringSize =int(len(list_of_reads[0])/4)\n",
    "    x = genome.split(\"\\n\")\n",
    "    gene = \"\"\n",
    "    currChar = x[0]\n",
    "    for i in range(1,len(x)):\n",
    "        if \"chr\" in x[i]:\n",
    "            dic[currChar] = gene\n",
    "            gene = \"\"\n",
    "            currChar = x[i]\n",
    "        else:\n",
    "            gene+= x[i]\n",
    "    dic[currChar] = gene\n",
    "        \n",
    "        # print(dic)\n",
    "        \n",
    "    charDicts = []\n",
    "    for k,v in dic.items():\n",
    "        tempDic = {}\n",
    "        for i in range(len(v)-substringSize+1):\n",
    "            if v[i:i+substringSize] in tempDic:\n",
    "                tempDic[v[i:i+substringSize]].append(i+1)\n",
    "            else:\n",
    "                tempDic[v[i:i+substringSize]] = []\n",
    "                tempDic[v[i:i+substringSize]].append(i+1)\n",
    "                    \n",
    "        charDicts.append(tempDic)\n",
    "        \n",
    "        # print(charDicts)\n",
    "    finalAnswer = []\n",
    "    for i in list_of_reads:\n",
    "        answerDic = {}\n",
    "        for j in range(len(i)-substringSize):\n",
    "            string = i[j:j+substringSize]\n",
    "                # print(i[j:j+2])\n",
    "            for k in range(len(charDicts)):\n",
    "                dicKey = \">chr\"+str(k+1)\n",
    "                dicString = dic[dicKey]\n",
    "                    \n",
    "                if string in charDicts[k]:\n",
    "                    startPoints = charDicts[k][string]\n",
    "                    maxStartingPoint = float('-inf')\n",
    "                    maxStartingScore = float('-inf')\n",
    "                    for s in startPoints:\n",
    "                        start  = s-j\n",
    "                        end = s-j+len(i)\n",
    "                        if end <= len(dicString):\n",
    "                            score = module.smith_waterman_alignment(dicString[start: end+1],i,penalties)\n",
    "                            if score > maxStartingScore:\n",
    "                                maxStartingPoint = start\n",
    "                                maxStartingScore = score\n",
    "                    if maxStartingPoint != float('-inf') and  maxStartingScore != float('-inf'):\n",
    "                        if maxStartingScore in answerDic:\n",
    "                            tempDic = answerDic[maxStartingScore]\n",
    "                            if dicKey in tempDic:\n",
    "                                if maxStartingPoint>tempDic[dicKey]:\n",
    "                                    tempDic[dicKey] = maxStartingPoint+1\n",
    "                            else:\n",
    "                                tempDic[dicKey] = maxStartingPoint+1\n",
    "                                \n",
    "                            answerDic[maxStartingScore] = tempDic\n",
    "                        else:\n",
    "                            tempDic = {dicKey:maxStartingPoint+1}\n",
    "                            answerDic[maxStartingScore] = tempDic\n",
    "        print(answerDic)\n",
    "                                \n",
    "#         maxScore = max(answerDic, key=int)\n",
    "#         values = answerDic[maxScore]\n",
    "#         tempAnswer = []\n",
    "#         for k,v in values.items():\n",
    "#             ans = k[1:]+\":\"+str(v-1)\n",
    "#             tempAnswer.append(ans)\n",
    "#         finalAnswer.append(tempAnswer)\n",
    "#     return finalAnswer\n",
    "    \n",
    "                        \n",
    "        \n",
    "    \n",
    "    \n",
    "    \n",
    "    \n",
    "print(find_approximate_matches([\"GATTACAT\",\"CACAAACA\"],fakegenome_file))\n",
    "# print(find_approximate_matches([\"CACAAACA\"],fakegenome_file))"
   ]
  },
  {
   "cell_type": "code",
   "execution_count": null,
   "metadata": {},
   "outputs": [],
   "source": [
    "['TGCAGATTGCTCCTACGCTTGACAATGTCGGATCCGATACCGATCTGATTCATATCGATACAGTTAGTGCCATTAACGAGCAATTTCTAAGACTGCACTG', 'ACGTAAAAAATGTAGCAGACTCGATCTCCTCTTCTGATGAAATCCTAGTTCCTTCGAGACTCGCTGATGTTACGCTAGCATTCATGGAGGAGAATGACGC', 'AAGTGGAAAGAAAGAAGGGTGACAAGTTCGTCGCTTGTTTCACAAGATTACCAACGCCAGCCATATTGTAACATAGATGTATAACTAGAACAATTTACCA', 'CCACACCACACCCACACACCCACACACCACACCACACACCCACCACACCCACACACACACATCCTAACAACTACCCTAACACAGCCCTAATCTAACCCTG']\n",
    "    @partial_credit(10)\n",
    "    def test_find_approximate_matches(self,set_score=None):\n",
    "        total_score=0\n",
    "        wrong_cases=0\n",
    "        matches=self.module.find_approximate_matches([\"GATTACAT\",\"CACAAACA\"],self.fakegenome_file)\n",
    "        s=set()\n",
    "        for match in matches :\n",
    "            match.sort()\n",
    "            s.add(tuple(match))\n",
    "        set1=tuple(['chr2:3'])\n",
    "        set2=tuple(['chr2:9', 'chr3:1'])\n",
    "        s1=set([set2,set1])\n",
    "        testValue=s==s1\n",
    "        if testValue :\n",
    "            total_score+=2\n",
    "        else :\n",
    "            wrong_cases+=1\n",
    "            \n",
    "        read0 = \"TGCAGATTGCTCCTACGCTTGACAATGTCGGATCCGATACCGATCTGATTCATATCGATACAGTTAGTGCCATTAACGAGCAATTTCTAAGACTGCACTG\"\n",
    "        read1 = \"ACGTAAAAAATGTAGCAGACTCGATCTCCTCTTCTGATGAAATCCTAGTTCCTTCGAGACTCGCTGATGTTACGCTAGCATTCATGGAGGAGAATGACGC\"\n",
    "        read2 = \"AAGTGGAAAGAAAGAAGGGTGACAAGTTCGTCGCTTGTTTCACAAGATTACCAACGCCAGCCATATTGTAACATAGATGTATAACTAGAACAATTTACCA\"\n",
    "        read3 = \"CCACACCACACCCACACACCCACACACCACACCACACACCCACCACACCCACACACACACATCCTAACAACTACCCTAACACAGCCCTAATCTAACCCTG\"\n",
    "        list_of_reads = [read0,read1,read2,read3]\n",
    "        matches=self.module.find_approximate_matches(list_of_reads,self.saccha_file)\n",
    "        s=set()\n",
    "        for match in matches :\n",
    "            match.sort()\n",
    "            s.add(tuple(match))\n",
    "        set1=tuple(['chr14:11909', 'chr6:10002'])\n",
    "        set2=tuple(['chr12:30122'])\n",
    "        set3=tuple(['chr4:100351'])\n",
    "        set4=tuple(['chr1:1'])\n",
    "        s1=set([set4,set3,set2,set1])\n",
    "        testValue=s==s1\n",
    "        if testValue :\n",
    "            total_score+=8\n",
    "        else :\n",
    "            wrong_cases+=1\n",
    "        print(str(wrong_cases) + \" test cases failed\")\n",
    "        set_score(total_score)"
   ]
  },
  {
   "cell_type": "code",
   "execution_count": 229,
   "metadata": {},
   "outputs": [],
   "source": [
    "from collections import defaultdict \n",
    "def func(list_of_reads,genome):\n",
    "    penalties={'match':1,'mismatch':-1,'gap':-1}\n",
    "    first_split = genome.split('>')[1:]\n",
    "    second_split = [x.split('\\n') for x in first_split]\n",
    "    chr_str = {x[0]:''.join(x[1:]) for x in second_split}\n",
    "    k = len(list_of_reads[0])//4\n",
    "    L = len(list_of_reads[0])\n",
    "    chr_substr = {}\n",
    "    for x, y in chr_str.items():\n",
    "        substrings = [(y[i:i+k], i) for i in range(0, len(y)-k+1)]\n",
    "        chr_substr[x] = substrings\n",
    "    substr_chr = defaultdict(list)\n",
    "    for x, y in chr_substr.items():\n",
    "        for s, loc in y:\n",
    "            substr_chr[s].append((x, loc))\n",
    "    ans = []\n",
    "    for read in list_of_reads:\n",
    "        read_substrings = [(read[i:i+k], i) for i in range(0, len(read)-k+1)]\n",
    "        aligned_locs_scores_set = set()\n",
    "        for substring, read_index in read_substrings:\n",
    "            if substring not in substr_chr:\n",
    "                continue\n",
    "            locs = substr_chr[substring]\n",
    "            for chrom, i in locs:\n",
    "                genome = chr_str[chrom]\n",
    "                if (len(genome) < L):\n",
    "                    continue\n",
    "                start = max(0, i - read_index)\n",
    "                stop = min(len(genome), start + L)\n",
    "                s2 = genome[start:stop]\n",
    "                s1 = read\n",
    "                score = module.smith_waterman_alignment(s1, s2, penalties)\n",
    "                aligned_locs_scores_set.add((score, '{}:{}'.format(chrom, start+1)))\n",
    "        if not aligned_locs_scores_set:\n",
    "            ans.append([])\n",
    "            continue\n",
    "        aligned_locs_scores = list(aligned_locs_scores_set)\n",
    "        max_score = max(aligned_locs_scores)[0]\n",
    "        index_locations = [x[1] for x in aligned_locs_scores if x[0] == max_score]\n",
    "        ans.append(index_locations)\n",
    "\n",
    "    return ans"
   ]
  },
  {
   "cell_type": "code",
   "execution_count": 230,
   "metadata": {},
   "outputs": [
    {
     "name": "stdout",
     "output_type": "stream",
     "text": [
      "[['chr2:3'], ['chr2:9', 'chr3:1']]\n"
     ]
    }
   ],
   "source": [
    "%run main.py\n",
    "module = Lab2()\n",
    "print(func([\"GATTACAT\",\"CACAAACA\"],fakegenome_file))"
   ]
  },
  {
   "cell_type": "markdown",
   "metadata": {},
   "source": [
    "### Expected Output - \n",
    "\n",
    "``[['chr2:3'], ['chr2:9', 'chr3:1']]``"
   ]
  },
  {
   "cell_type": "code",
   "execution_count": 208,
   "metadata": {},
   "outputs": [
    {
     "name": "stdout",
     "output_type": "stream",
     "text": [
      "[['chr6:10002', 'chr14:11909'], ['chr12:30122'], ['chr4:100351'], ['chr1:1']]\n"
     ]
    }
   ],
   "source": [
    "read0 = \"TGCAGATTGCTCCTACGCTTGACAATGTCGGATCCGATACCGATCTGATTCATATCGATACAGTTAGTGCCATTAACGAGCAATTTCTAAGACTGCACTG\"\n",
    "read1 = \"ACGTAAAAAATGTAGCAGACTCGATCTCCTCTTCTGATGAAATCCTAGTTCCTTCGAGACTCGCTGATGTTACGCTAGCATTCATGGAGGAGAATGACGC\"\n",
    "read2 = \"AAGTGGAAAGAAAGAAGGGTGACAAGTTCGTCGCTTGTTTCACAAGATTACCAACGCCAGCCATATTGTAACATAGATGTATAACTAGAACAATTTACCA\"\n",
    "read3 = \"CCACACCACACCCACACACCCACACACCACACCACACACCCACCACACCCACACACACACATCCTAACAACTACCCTAACACAGCCCTAATCTAACCCTG\"\n",
    "\n",
    "list_of_reads = [read0,read1,read2,read3]\n",
    "#list_of_reads = [read1]\n",
    "\n",
    "print(module.find_approximate_matches(list_of_reads,saccha_file)) "
   ]
  }
 ],
 "metadata": {
  "kernelspec": {
   "display_name": "Python 3",
   "language": "python",
   "name": "python3"
  },
  "language_info": {
   "codemirror_mode": {
    "name": "ipython",
    "version": 3
   },
   "file_extension": ".py",
   "mimetype": "text/x-python",
   "name": "python",
   "nbconvert_exporter": "python",
   "pygments_lexer": "ipython3",
   "version": "3.8.5"
  }
 },
 "nbformat": 4,
 "nbformat_minor": 2
}
