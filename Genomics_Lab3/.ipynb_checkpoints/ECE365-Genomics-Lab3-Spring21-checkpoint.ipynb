{
 "cells": [
  {
   "cell_type": "markdown",
   "metadata": {},
   "source": [
    "# Lab 3: Genome-Wide Association Studies"
   ]
  },
  {
   "cell_type": "markdown",
   "metadata": {},
   "source": [
    "### Due March 25, 2020 11:59 PM"
   ]
  },
  {
   "cell_type": "markdown",
   "metadata": {},
   "source": [
    "#### Preamble (Don't change this)"
   ]
  },
  {
   "cell_type": "markdown",
   "metadata": {},
   "source": [
    "## Important Instructions - \n",
    "\n",
    "1. Please implement all the *graded functions* in main.py file. Do not change function names in main.py.\n",
    "2. Please read the description of every graded function very carefully. The description clearly states what is the expectation of each graded function. \n",
    "3. After some graded functions, there is a cell which you can run and see if the expected output matches the output you are getting. \n",
    "4. The expected output provided is just a way for you to assess the correctness of your code. The code will be tested on several other cases as well."
   ]
  },
  {
   "cell_type": "code",
   "execution_count": 1,
   "metadata": {},
   "outputs": [],
   "source": [
    "import matplotlib.pyplot as plt\n",
    "import seaborn as sns"
   ]
  },
  {
   "cell_type": "code",
   "execution_count": 2,
   "metadata": {},
   "outputs": [],
   "source": [
    "%run main.py"
   ]
  },
  {
   "cell_type": "code",
   "execution_count": 3,
   "metadata": {},
   "outputs": [],
   "source": [
    "module = Lab3()"
   ]
  },
  {
   "cell_type": "markdown",
   "metadata": {},
   "source": [
    "## GWAS from dogs genotype data\n",
    "\n",
    "In this lab, you will perform GWAS on genotype data from dogs.\n",
    "The binary phenotype considered will be \"yellow fur color\".\n",
    "Hence, we will be trying to identify SNPs in a dog genome that are associated with yellow fur.\n",
    "\n",
    "You will work with the file dog_genotype.vcf.\n",
    "The first few lines of the file start with ``##`` and can be ignored, as they contain general information about the file.\n",
    "The header line starts with ``#`` and contains the names of each of the columns in the matrix.\n",
    "All the remaining lines correspond to the data about a specific SNP.\n",
    "\n",
    "Notice that the columns are separated by tab (\"\\t\")."
   ]
  },
  {
   "cell_type": "code",
   "execution_count": 4,
   "metadata": {},
   "outputs": [],
   "source": [
    "initial_lines=[]\n",
    "header_line=\"\"\n",
    "snp_lines=[]\n",
    "\n",
    "for cur_line in open(\"dog_genotype.vcf\",\"r\"):\n",
    "    if cur_line[:2] == \"##\":\n",
    "        initial_lines.append(cur_line)\n",
    "    elif cur_line[:1] == \"#\":\n",
    "        header_line = cur_line\n",
    "    else:\n",
    "        snp_lines.append(cur_line)"
   ]
  },
  {
   "cell_type": "code",
   "execution_count": 5,
   "metadata": {},
   "outputs": [
    {
     "name": "stdout",
     "output_type": "stream",
     "text": [
      "#CHROM\tPOS\tID\tREF\tALT\tQUAL\tFILTER\tINFO\tFORMAT\tdark_13\tdark_23\tdark_21\tyellow_5\tyellow_6\tdark_1\tdark_7\tdark_9\tdark_2\tdark_10\tdark_8\tyellow_24\tyellow_22\tdark_17\tdark_18\tdark_4\tdark_6\tdark_5\tyellow_16\tyellow_14\tyellow_18\tyellow_15\tyellow_13\tyellow_17\tyellow_12\tyellow_10\tyellow_11\tdark_11\tdark_19\tdark_20\tdark_12\tdark_3\tdark_28\tdark_25\tdark_26\tdark_29\tdark_27\tyellow_8\tyellow_1\tyellow_3\tdark_14\tdark_15\tyellow_7\tyellow_2\tdark_22\tyellow_4\tyellow_9\tyellow_31\tdark_24\tdark_31\tyellow_23\tyellow_20\tyellow_21\n",
      "\n"
     ]
    }
   ],
   "source": [
    "print(header_line)"
   ]
  },
  {
   "cell_type": "markdown",
   "metadata": {},
   "source": [
    "As you can see above, the header line contains SNP information such as chromosome, position,  SNP id, REF, and ALT.\n",
    "\n",
    "The columns dark_13 until yellow_21 represent 53 dogs. Their ids encode whether they have yellow or dark fur (coat)."
   ]
  },
  {
   "cell_type": "code",
   "execution_count": null,
   "metadata": {},
   "outputs": [],
   "source": [
    "for line in snp_lines[:3]:\n",
    "    print(line)"
   ]
  },
  {
   "cell_type": "markdown",
   "metadata": {},
   "source": [
    "Notice that the genotypes are encoded as x/y, where x and y are in {0,1,.}. The '.' represents a genotype that is not known."
   ]
  },
  {
   "cell_type": "markdown",
   "metadata": {},
   "source": [
    "## Graded Function 1 : create_data() (10 marks)\n",
    "\n",
    "Purpose - To prepare data for association analysis. We will prepare a dataframe which has 53 rows (one for each dog) and 3902 columns (one for each SNP).\n",
    "The name of each column should encode the chromosome number and the position as 1:5123496 for chromosome 1 and position 5123496 (from the first and second columns).\n",
    "\n",
    "You will begin by iterating through each of the snp_lines list created above. \n",
    "You will process all genotype columns (starting from the 10th column) and convert the \"x/y\" genotype to x+y (total number of ALT).\n",
    "\n",
    "Genotypes containing a '.' should be converted into a ``np.nan``. These values will be ignored later.\n",
    "\n",
    "Input - the snp_lines parsed at the beginning of the notebook\n",
    "\n",
    "Output - You should return the 53 x 3902 dataframe"
   ]
  },
  {
   "cell_type": "code",
   "execution_count": null,
   "metadata": {},
   "outputs": [],
   "source": [
    "snp_data=module.create_data(snp_lines)"
   ]
  },
  {
   "cell_type": "code",
   "execution_count": null,
   "metadata": {},
   "outputs": [],
   "source": [
    "# you can visualize the first 5 rows of a pandas dataframe as follows:\n",
    "snp_data.head()"
   ]
  },
  {
   "cell_type": "markdown",
   "metadata": {},
   "source": [
    "## Graded Function 2 : create_target() (10 marks)\n",
    "\n",
    "Purpose - To parse the header line and create a list of phenotype labels for the 53 dogs. We will represent yellow fur by 1 and dark fur by 0.\n",
    "\n",
    "You should parse the header line (tab-delimited) and from the 10th element, assign 1 if yellow appears in name and 0 if dark appears in name.\n",
    "\n",
    "Input - the header_line parsed at the beginning of the notebook\n",
    "\n",
    "Output - a list of values(either 0 or 1)."
   ]
  },
  {
   "cell_type": "code",
   "execution_count": null,
   "metadata": {},
   "outputs": [],
   "source": [
    "target=module.create_target(header_line)\n",
    "print(target[:10])"
   ]
  },
  {
   "cell_type": "markdown",
   "metadata": {},
   "source": [
    "## Expected Output - \n",
    "\n",
    "[0, 0, 0, 1, 1, 0, 0, 0, 0, 0]"
   ]
  },
  {
   "cell_type": "markdown",
   "metadata": {},
   "source": [
    "We will now add the target to the snp_data dataframe under the name \"yellow\""
   ]
  },
  {
   "cell_type": "code",
   "execution_count": null,
   "metadata": {},
   "outputs": [],
   "source": [
    "snp_data[\"target\"]=target"
   ]
  },
  {
   "cell_type": "markdown",
   "metadata": {},
   "source": [
    "## Graded Function 3 : logistic_reg_per_snp(df)  (10 marks)\n",
    "\n",
    "Purpose - To iterate through all SNPs and fit a logistic regression model for each SNP. \n",
    "\n",
    "We will use the Logit class of statsmodels.api to create the logistic regression models.\n",
    "The advantage of statsmodels' version of Logistic Regression is that it returns a p-value (unlike the scikit-learn version).\n",
    "\n",
    "The input for the model will be the dataframe column for a particular SNP and the target variable will be the target column with fur color information. \n",
    "\n",
    "<!-- You should not include values in the input column which are less than 0. -->\n",
    "\n",
    "You should add a constant column to the input column. You can do that using sm.add_constant() function. \n",
    "This will guarantee that a constant $\\beta_0$\n",
    "Please see documentation for more information:\n",
    "\n",
    "(https://www.statsmodels.org/stable/api.html)\n",
    "\n",
    "(https://tedboy.github.io/statsmodels_doc/generated/generated/statsmodels.api.Logit.html)\n",
    "\n",
    "##### Note - Please use the method='bfgs' and disp=False in the fit method of the Logit object you will create.\n",
    "\n",
    "##### Note - Please round off the p-value to 9 digits after decimal and betavalue to 5 places after decimal\n",
    "\n",
    "The output should be list of 3902 pvalues and a list of 3902 beta values."
   ]
  },
  {
   "cell_type": "code",
   "execution_count": null,
   "metadata": {},
   "outputs": [],
   "source": [
    "p_values,betavalues=module.logistic_reg_per_snp(snp_data)"
   ]
  },
  {
   "cell_type": "code",
   "execution_count": null,
   "metadata": {},
   "outputs": [],
   "source": [
    "print(p_values[:10])\n",
    "\n",
    "print(betavalues[:10])"
   ]
  },
  {
   "cell_type": "markdown",
   "metadata": {},
   "source": [
    "## Expected Output - \n",
    "\n",
    "[0.471163991, 0.250546824, 0.341485853, 0.314182679, 0.255696421, 0.120055343, 0.965506994, 0.864100297, 0.864100297, 0.143809377]\n",
    "\n",
    "[-0.51109, -0.77511, -0.40365, 0.39437, 0.52553, -1.60262, 0.01903, 0.12674, 0.12674, 0.96828]"
   ]
  },
  {
   "cell_type": "code",
   "execution_count": null,
   "metadata": {},
   "outputs": [],
   "source": [
    "# You may also want to look at some crosstabs between a SNP and the target phenotype\n",
    "# For example, let's take the beta with the largest absolute\n",
    "\n",
    "betamax = np.argmax(np.abs(betavalues))\n",
    "pd.crosstab(snp_data[snp_data.columns[betamax]],snp_data['target'])"
   ]
  },
  {
   "cell_type": "markdown",
   "metadata": {},
   "source": [
    "We see that for SNP 22:55322251, every single dog in our dataset that has one or two ALT variants, has yellow fur."
   ]
  },
  {
   "cell_type": "markdown",
   "metadata": {},
   "source": [
    "## Graded Function 4 : get_top_snps() (10 marks)\n",
    "\n",
    "Purpose - To identify the 5 SNPs whose association with dog color has the highest stastical significance. \n",
    "\n",
    "Statistical significance is determined in terms of p-values computed above.\n",
    "The lower the p-value, the more significant the association is.\n",
    "\n",
    "Output - list of 5 tuples, each with chromosome and position\n",
    "\n",
    "#### Example Output Format - [('1','10'),('2','20'),('3','30'),('4','40'),('5','50')]"
   ]
  },
  {
   "cell_type": "code",
   "execution_count": null,
   "metadata": {},
   "outputs": [],
   "source": [
    "module.get_top_snps(snp_data,p_values)"
   ]
  },
  {
   "cell_type": "markdown",
   "metadata": {},
   "source": [
    "## Manhattan plot\n",
    "\n",
    "A Manhattan plot shows -log_10(p-value) for each of the SNPs, organized by chromosome.\n",
    "The Manhattan plot is commonly used to display the result of a GWAS: https://en.wikipedia.org/wiki/Manhattan_plot"
   ]
  },
  {
   "cell_type": "code",
   "execution_count": null,
   "metadata": {
    "scrolled": false
   },
   "outputs": [],
   "source": [
    "cur_chr = '1'\n",
    "cur_x = []\n",
    "cur_y = []\n",
    "prev_start = 0\n",
    "xpos = []\n",
    "xlabel = []\n",
    "\n",
    "fig, ax = plt.subplots(figsize=(12,8))\n",
    "\n",
    "for i in range(len(p_values)):\n",
    "    \n",
    "    chrm = (list(snp_data.columns)[i]).split(':')[0]\n",
    "    \n",
    "    if chrm != cur_chr:\n",
    "        clr = 'gold' if int(cur_chr)%2 == 0 else 'darkblue'\n",
    "        ax.plot(cur_x,cur_y, marker='o',linestyle='',color=clr)\n",
    "        xpos.append(int((prev_start+i)/2))\n",
    "        xlabel.append(cur_chr)\n",
    "        cur_chr = chrm\n",
    "        cur_x = []\n",
    "        cur_y = []\n",
    "        prev_start = i\n",
    "\n",
    "    cur_x.append(i)\n",
    "    cur_y.append(-np.log10(p_values[i]))\n",
    "\n",
    "clr = 'gold' if int(cur_chr)%2 == 0 else 'darkblue'\n",
    "ax.plot(cur_x,cur_y, marker='o',linestyle='',color=clr)\n",
    "xpos.append(int((prev_start+i)/2))\n",
    "xlabel.append(cur_chr)\n",
    "plt.xticks(xpos, xlabel)\n",
    "plt.xlabel('chromosome number')\n",
    "plt.ylabel('- log10(p)')\n",
    "plt.show()    "
   ]
  },
  {
   "cell_type": "markdown",
   "metadata": {
    "collapsed": true
   },
   "source": [
    "Notice that there are multiple SNPs in chromosome 5 and they are close to each other.\n",
    "In fact, these SNPs are on the MC1R gene (https://www.ncbi.nlm.nih.gov/gene/489652), which plays a role in skin/fur pigmentation."
   ]
  }
 ],
 "metadata": {
  "kernelspec": {
   "display_name": "Python 3",
   "language": "python",
   "name": "python3"
  },
  "language_info": {
   "codemirror_mode": {
    "name": "ipython",
    "version": 3
   },
   "file_extension": ".py",
   "mimetype": "text/x-python",
   "name": "python",
   "nbconvert_exporter": "python",
   "pygments_lexer": "ipython3",
   "version": "3.8.5"
  }
 },
 "nbformat": 4,
 "nbformat_minor": 2
}
